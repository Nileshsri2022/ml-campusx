{
  "cells": [
    {
      "cell_type": "markdown",
      "metadata": {
        "id": "view-in-github",
        "colab_type": "text"
      },
      "source": [
        "<a href=\"https://colab.research.google.com/github/Nileshsri2022/ml-campusx/blob/main/day55-regularized-linear-models/ridge-regression-gradient-descent.ipynb\" target=\"_parent\"><img src=\"https://colab.research.google.com/assets/colab-badge.svg\" alt=\"Open In Colab\"/></a>"
      ]
    },
    {
      "cell_type": "code",
      "execution_count": 25,
      "id": "0a64ff79",
      "metadata": {
        "id": "0a64ff79"
      },
      "outputs": [],
      "source": [
        "from sklearn.datasets import load_diabetes\n",
        "from sklearn.metrics import r2_score\n",
        "import numpy as np"
      ]
    },
    {
      "cell_type": "code",
      "execution_count": 26,
      "id": "f5d0adc9",
      "metadata": {
        "id": "f5d0adc9"
      },
      "outputs": [],
      "source": [
        "X,y = load_diabetes(return_X_y=True)"
      ]
    },
    {
      "cell_type": "code",
      "execution_count": 27,
      "id": "877a6fcc",
      "metadata": {
        "id": "877a6fcc"
      },
      "outputs": [],
      "source": [
        "from sklearn.model_selection import train_test_split"
      ]
    },
    {
      "cell_type": "code",
      "execution_count": 28,
      "id": "f356594b",
      "metadata": {
        "id": "f356594b"
      },
      "outputs": [],
      "source": [
        "X_train,X_test,y_train,y_test = train_test_split(X,y,test_size=0.2,random_state=4)"
      ]
    },
    {
      "cell_type": "code",
      "execution_count": 29,
      "id": "7353416f",
      "metadata": {
        "id": "7353416f"
      },
      "outputs": [],
      "source": [
        "from sklearn.linear_model import SGDRegressor"
      ]
    },
    {
      "cell_type": "code",
      "execution_count": 30,
      "id": "dd9147db",
      "metadata": {
        "id": "dd9147db"
      },
      "outputs": [],
      "source": [
        "reg = SGDRegressor(penalty='l2',max_iter=500,eta0=0.1,learning_rate='constant',alpha=0.001)"
      ]
    },
    {
      "cell_type": "code",
      "execution_count": 31,
      "id": "bc87d135",
      "metadata": {
        "id": "bc87d135",
        "outputId": "0b9f3878-f425-4745-a252-b74352aace1d",
        "colab": {
          "base_uri": "https://localhost:8080/"
        }
      },
      "outputs": [
        {
          "output_type": "stream",
          "name": "stdout",
          "text": [
            "R2 score 0.4470548863470746\n",
            "[  57.44705564 -137.61234934  351.10124645  257.70854749    2.70453793\n",
            "  -49.34295982 -164.90578943  136.49012567  319.40348931  107.46253071]\n",
            "[149.76443355]\n"
          ]
        }
      ],
      "source": [
        "reg.fit(X_train,y_train)\n",
        "\n",
        "y_pred = reg.predict(X_test)\n",
        "print(\"R2 score\",r2_score(y_test,y_pred))\n",
        "print(reg.coef_)\n",
        "print(reg.intercept_)"
      ]
    },
    {
      "cell_type": "code",
      "execution_count": 32,
      "id": "d9b329c6",
      "metadata": {
        "id": "d9b329c6"
      },
      "outputs": [],
      "source": [
        "from sklearn.linear_model import Ridge\n",
        "\n",
        "reg = Ridge(alpha=0.001, max_iter=500,solver='sparse_cg')"
      ]
    },
    {
      "cell_type": "code",
      "execution_count": 33,
      "id": "67492f20",
      "metadata": {
        "id": "67492f20",
        "outputId": "5bebe7ab-bbcf-4342-9b28-cabe425f0716",
        "colab": {
          "base_uri": "https://localhost:8080/"
        }
      },
      "outputs": [
        {
          "output_type": "stream",
          "name": "stdout",
          "text": [
            "R2 score 0.46250101619914563\n",
            "[  34.52192544 -290.84084076  482.40181344  368.0678662  -852.44873179\n",
            "  501.59160336  180.11115788  270.76333979  759.73534372   37.4913546 ]\n",
            "151.10198517439466\n"
          ]
        }
      ],
      "source": [
        "reg.fit(X_train,y_train)\n",
        "\n",
        "y_pred = reg.predict(X_test)\n",
        "print(\"R2 score\",r2_score(y_test,y_pred))\n",
        "print(reg.coef_)\n",
        "print(reg.intercept_)"
      ]
    },
    {
      "cell_type": "code",
      "source": [
        "coef_=np.ones(X_train.shape[1])\n",
        "intercept_ = 0"
      ],
      "metadata": {
        "id": "XoOdtYu8p_Vt"
      },
      "id": "XoOdtYu8p_Vt",
      "execution_count": 34,
      "outputs": []
    },
    {
      "cell_type": "code",
      "source": [
        "np.insert(coef_,0,intercept_)"
      ],
      "metadata": {
        "id": "BiB3st3KqNMM",
        "outputId": "6c0fa897-4798-4388-ece5-920139fc1206",
        "colab": {
          "base_uri": "https://localhost:8080/"
        }
      },
      "id": "BiB3st3KqNMM",
      "execution_count": 35,
      "outputs": [
        {
          "output_type": "execute_result",
          "data": {
            "text/plain": [
              "array([0., 1., 1., 1., 1., 1., 1., 1., 1., 1., 1.])"
            ]
          },
          "metadata": {},
          "execution_count": 35
        }
      ]
    },
    {
      "cell_type": "code",
      "source": [
        "thetha = np.insert(coef_,0,intercept_)"
      ],
      "metadata": {
        "id": "j6ElUGm2ql9P"
      },
      "id": "j6ElUGm2ql9P",
      "execution_count": 36,
      "outputs": []
    },
    {
      "cell_type": "code",
      "source": [
        "np.insert(X_train,0,1,axis=1)"
      ],
      "metadata": {
        "id": "I8woDg0HqrAZ",
        "outputId": "d044451d-af52-49ab-9a4c-d06814d17802",
        "colab": {
          "base_uri": "https://localhost:8080/"
        }
      },
      "id": "I8woDg0HqrAZ",
      "execution_count": 37,
      "outputs": [
        {
          "output_type": "execute_result",
          "data": {
            "text/plain": [
              "array([[ 1.        ,  0.0090156 , -0.04464164, ...,  0.02323852,\n",
              "         0.05568623,  0.10661708],\n",
              "       [ 1.        ,  0.03081083,  0.05068012, ...,  0.05755657,\n",
              "         0.0354587 ,  0.08590655],\n",
              "       [ 1.        ,  0.01628068, -0.04464164, ..., -0.03949338,\n",
              "        -0.05947118, -0.06735141],\n",
              "       ...,\n",
              "       [ 1.        ,  0.04170844,  0.05068012, ..., -0.01107952,\n",
              "        -0.04688253,  0.01549073],\n",
              "       [ 1.        ,  0.01628068,  0.05068012, ..., -0.03949338,\n",
              "         0.01703607,  0.00720652],\n",
              "       [ 1.        ,  0.04897352,  0.05068012, ...,  0.07120998,\n",
              "         0.03243232,  0.04862759]])"
            ]
          },
          "metadata": {},
          "execution_count": 37
        }
      ]
    },
    {
      "cell_type": "code",
      "execution_count": 38,
      "id": "9c215108",
      "metadata": {
        "id": "9c215108"
      },
      "outputs": [],
      "source": [
        "class MeraRidgeGD:\n",
        "\n",
        "    def __init__(self,epochs,learning_rate,alpha):\n",
        "\n",
        "        self.learning_rate = learning_rate\n",
        "        self.epochs = epochs\n",
        "        self.alpha = alpha\n",
        "        self.coef_ = None\n",
        "        self.intercept_ = None\n",
        "\n",
        "    def fit(self,X_train,y_train):\n",
        "\n",
        "        self.coef_ = np.ones(X_train.shape[1])\n",
        "        self.intercept_ = 0\n",
        "        thetha = np.insert(self.coef_,0,self.intercept_)\n",
        "\n",
        "        X_train = np.insert(X_train,0,1,axis=1)\n",
        "\n",
        "        for i in range(self.epochs):\n",
        "            thetha_der = np.dot(X_train.T,X_train).dot(thetha) - np.dot(X_train.T,y_train) + self.alpha*thetha\n",
        "            thetha = thetha - self.learning_rate*thetha_der\n",
        "\n",
        "        self.coef_ = thetha[1:]\n",
        "        self.intercept_ = thetha[0]\n",
        "\n",
        "    def predict(self,X_test):\n",
        "\n",
        "        return np.dot(X_test,self.coef_) + self.intercept_"
      ]
    },
    {
      "cell_type": "code",
      "execution_count": 39,
      "id": "12040494",
      "metadata": {
        "id": "12040494"
      },
      "outputs": [],
      "source": [
        "reg = MeraRidgeGD(epochs=500,alpha=0.001,learning_rate=0.005)"
      ]
    },
    {
      "cell_type": "code",
      "execution_count": 40,
      "id": "cd5d4820",
      "metadata": {
        "id": "cd5d4820",
        "outputId": "303bcbd1-ead3-456c-c1b6-4453e525a78e",
        "colab": {
          "base_uri": "https://localhost:8080/"
        }
      },
      "outputs": [
        {
          "output_type": "stream",
          "name": "stdout",
          "text": [
            "R2 score 0.4738018280260913\n",
            "[  46.65050914 -221.3750037   452.12080647  325.54248128  -29.09464178\n",
            "  -96.47517735 -190.90017011  146.32900372  400.80267299   95.09048094]\n",
            "150.86975316713472\n"
          ]
        }
      ],
      "source": [
        "reg.fit(X_train,y_train)\n",
        "\n",
        "y_pred = reg.predict(X_test)\n",
        "print(\"R2 score\",r2_score(y_test,y_pred))\n",
        "print(reg.coef_)\n",
        "print(reg.intercept_)"
      ]
    },
    {
      "cell_type": "code",
      "execution_count": 40,
      "id": "629a5361",
      "metadata": {
        "id": "629a5361"
      },
      "outputs": [],
      "source": []
    }
  ],
  "metadata": {
    "kernelspec": {
      "display_name": "Python 3",
      "language": "python",
      "name": "python3"
    },
    "language_info": {
      "codemirror_mode": {
        "name": "ipython",
        "version": 3
      },
      "file_extension": ".py",
      "mimetype": "text/x-python",
      "name": "python",
      "nbconvert_exporter": "python",
      "pygments_lexer": "ipython3",
      "version": "3.8.8"
    },
    "colab": {
      "provenance": [],
      "include_colab_link": true
    }
  },
  "nbformat": 4,
  "nbformat_minor": 5
}